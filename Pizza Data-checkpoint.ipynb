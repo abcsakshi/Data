{
 "cells": [
  {
   "cell_type": "code",
   "execution_count": 29,
   "metadata": {
    "collapsed": true
   },
   "outputs": [],
   "source": [
    "import numpy as np # linear algebra\n",
    "import pandas as pd # data processing, CSV file I/O (e.g. pd.read_csv)\n",
    "import matplotlib.pyplot as plt\n",
    "%matplotlib inline\n",
    "import seaborn as sns\n",
    "color = sns.color_palette()\n"
   ]
  },
  {
   "cell_type": "code",
   "execution_count": 2,
   "metadata": {
    "collapsed": true
   },
   "outputs": [],
   "source": [
    "from IPython.core.interactiveshell import InteractiveShell\n",
    "InteractiveShell.ast_node_interactivity = \"all\""
   ]
  },
  {
   "cell_type": "code",
   "execution_count": 3,
   "metadata": {},
   "outputs": [
    {
     "data": {
      "text/plain": [
       "'C:\\\\Users\\\\HP\\\\Downloads'"
      ]
     },
     "execution_count": 3,
     "metadata": {},
     "output_type": "execute_result"
    }
   ],
   "source": [
    "import os\n",
    "os.getcwd()"
   ]
  },
  {
   "cell_type": "code",
   "execution_count": 4,
   "metadata": {
    "collapsed": true
   },
   "outputs": [],
   "source": [
    "os.chdir('C:/Users/HP/Desktop')"
   ]
  },
  {
   "cell_type": "code",
   "execution_count": 5,
   "metadata": {},
   "outputs": [
    {
     "data": {
      "text/plain": [
       "'C:\\\\Users\\\\HP\\\\Desktop'"
      ]
     },
     "execution_count": 5,
     "metadata": {},
     "output_type": "execute_result"
    }
   ],
   "source": [
    "os.getcwd()"
   ]
  },
  {
   "cell_type": "code",
   "execution_count": 12,
   "metadata": {},
   "outputs": [],
   "source": [
    "Pizza = pd.read_csv(\"8358_1.csv\")"
   ]
  },
  {
   "cell_type": "code",
   "execution_count": 13,
   "metadata": {},
   "outputs": [
    {
     "data": {
      "text/html": [
       "<div>\n",
       "<style>\n",
       "    .dataframe thead tr:only-child th {\n",
       "        text-align: right;\n",
       "    }\n",
       "\n",
       "    .dataframe thead th {\n",
       "        text-align: left;\n",
       "    }\n",
       "\n",
       "    .dataframe tbody tr th {\n",
       "        vertical-align: top;\n",
       "    }\n",
       "</style>\n",
       "<table border=\"1\" class=\"dataframe\">\n",
       "  <thead>\n",
       "    <tr style=\"text-align: right;\">\n",
       "      <th></th>\n",
       "      <th>id</th>\n",
       "      <th>address</th>\n",
       "      <th>categories</th>\n",
       "      <th>city</th>\n",
       "      <th>country</th>\n",
       "      <th>keys</th>\n",
       "      <th>latitude</th>\n",
       "      <th>longitude</th>\n",
       "      <th>menuPageURL</th>\n",
       "      <th>menus.amountMax</th>\n",
       "      <th>...</th>\n",
       "      <th>menus.currency</th>\n",
       "      <th>menus.dateSeen</th>\n",
       "      <th>menus.description</th>\n",
       "      <th>menus.name</th>\n",
       "      <th>name</th>\n",
       "      <th>postalCode</th>\n",
       "      <th>priceRangeCurrency</th>\n",
       "      <th>priceRangeMin</th>\n",
       "      <th>priceRangeMax</th>\n",
       "      <th>province</th>\n",
       "    </tr>\n",
       "  </thead>\n",
       "  <tbody>\n",
       "    <tr>\n",
       "      <th>0</th>\n",
       "      <td>AVwc_6KEIN2L1WUfrKAH</td>\n",
       "      <td>Cascade Village Mall Across From Target</td>\n",
       "      <td>Pizza Place</td>\n",
       "      <td>Bend</td>\n",
       "      <td>US</td>\n",
       "      <td>us/or/bend/cascadevillagemallacrossfromtarget/...</td>\n",
       "      <td>44.102665</td>\n",
       "      <td>-121.300797</td>\n",
       "      <td>NaN</td>\n",
       "      <td>22.50</td>\n",
       "      <td>...</td>\n",
       "      <td>USD</td>\n",
       "      <td>2016-03-31T02:19:42Z</td>\n",
       "      <td>NaN</td>\n",
       "      <td>Bianca Pizza</td>\n",
       "      <td>Little Pizza Paradise</td>\n",
       "      <td>97701</td>\n",
       "      <td>NaN</td>\n",
       "      <td>NaN</td>\n",
       "      <td>NaN</td>\n",
       "      <td>OR</td>\n",
       "    </tr>\n",
       "    <tr>\n",
       "      <th>1</th>\n",
       "      <td>AVwc_6KEIN2L1WUfrKAH</td>\n",
       "      <td>Cascade Village Mall Across From Target</td>\n",
       "      <td>Pizza Place</td>\n",
       "      <td>Bend</td>\n",
       "      <td>US</td>\n",
       "      <td>us/or/bend/cascadevillagemallacrossfromtarget/...</td>\n",
       "      <td>44.102665</td>\n",
       "      <td>-121.300797</td>\n",
       "      <td>NaN</td>\n",
       "      <td>18.95</td>\n",
       "      <td>...</td>\n",
       "      <td>USD</td>\n",
       "      <td>2016-03-31T02:19:42Z</td>\n",
       "      <td>NaN</td>\n",
       "      <td>Cheese Pizza</td>\n",
       "      <td>Little Pizza Paradise</td>\n",
       "      <td>97701</td>\n",
       "      <td>NaN</td>\n",
       "      <td>NaN</td>\n",
       "      <td>NaN</td>\n",
       "      <td>OR</td>\n",
       "    </tr>\n",
       "    <tr>\n",
       "      <th>2</th>\n",
       "      <td>AVwc_6qRByjofQCxkcxw</td>\n",
       "      <td>148 S Barrington Ave</td>\n",
       "      <td>American Restaurant,Bar,Bakery</td>\n",
       "      <td>Los Angeles</td>\n",
       "      <td>US</td>\n",
       "      <td>us/brentwood/losangeles/148sbarringtonave/-151...</td>\n",
       "      <td>34.064563</td>\n",
       "      <td>-118.469017</td>\n",
       "      <td>NaN</td>\n",
       "      <td>12.00</td>\n",
       "      <td>...</td>\n",
       "      <td>USD</td>\n",
       "      <td>2015-10-23T03:57:26Z</td>\n",
       "      <td>NaN</td>\n",
       "      <td>Pizza, Margherita</td>\n",
       "      <td>The Brentwood</td>\n",
       "      <td>90049</td>\n",
       "      <td>USD</td>\n",
       "      <td>50.0</td>\n",
       "      <td>55.0</td>\n",
       "      <td>Brentwood</td>\n",
       "    </tr>\n",
       "    <tr>\n",
       "      <th>3</th>\n",
       "      <td>AVwc_6qRByjofQCxkcxw</td>\n",
       "      <td>148 S Barrington Ave</td>\n",
       "      <td>American Restaurant,Bar,Bakery</td>\n",
       "      <td>Los Angeles</td>\n",
       "      <td>US</td>\n",
       "      <td>us/brentwood/losangeles/148sbarringtonave/-151...</td>\n",
       "      <td>34.064563</td>\n",
       "      <td>-118.469017</td>\n",
       "      <td>NaN</td>\n",
       "      <td>13.00</td>\n",
       "      <td>...</td>\n",
       "      <td>USD</td>\n",
       "      <td>2015-10-23T03:57:26Z</td>\n",
       "      <td>NaN</td>\n",
       "      <td>Pizza, Mushroom</td>\n",
       "      <td>The Brentwood</td>\n",
       "      <td>90049</td>\n",
       "      <td>USD</td>\n",
       "      <td>50.0</td>\n",
       "      <td>55.0</td>\n",
       "      <td>Brentwood</td>\n",
       "    </tr>\n",
       "    <tr>\n",
       "      <th>4</th>\n",
       "      <td>AVwc_6qRByjofQCxkcxw</td>\n",
       "      <td>148 S Barrington Ave</td>\n",
       "      <td>American Restaurant,Bar,Bakery</td>\n",
       "      <td>Los Angeles</td>\n",
       "      <td>US</td>\n",
       "      <td>us/brentwood/losangeles/148sbarringtonave/-151...</td>\n",
       "      <td>34.064563</td>\n",
       "      <td>-118.469017</td>\n",
       "      <td>NaN</td>\n",
       "      <td>13.00</td>\n",
       "      <td>...</td>\n",
       "      <td>USD</td>\n",
       "      <td>2015-10-23T03:57:26Z</td>\n",
       "      <td>Olives, onions, capers, tomatoes</td>\n",
       "      <td>Pizza, Puttenesca</td>\n",
       "      <td>The Brentwood</td>\n",
       "      <td>90049</td>\n",
       "      <td>USD</td>\n",
       "      <td>50.0</td>\n",
       "      <td>55.0</td>\n",
       "      <td>Brentwood</td>\n",
       "    </tr>\n",
       "  </tbody>\n",
       "</table>\n",
       "<p>5 rows × 21 columns</p>\n",
       "</div>"
      ],
      "text/plain": [
       "                     id                                  address  \\\n",
       "0  AVwc_6KEIN2L1WUfrKAH  Cascade Village Mall Across From Target   \n",
       "1  AVwc_6KEIN2L1WUfrKAH  Cascade Village Mall Across From Target   \n",
       "2  AVwc_6qRByjofQCxkcxw                     148 S Barrington Ave   \n",
       "3  AVwc_6qRByjofQCxkcxw                     148 S Barrington Ave   \n",
       "4  AVwc_6qRByjofQCxkcxw                     148 S Barrington Ave   \n",
       "\n",
       "                       categories         city country  \\\n",
       "0                     Pizza Place         Bend      US   \n",
       "1                     Pizza Place         Bend      US   \n",
       "2  American Restaurant,Bar,Bakery  Los Angeles      US   \n",
       "3  American Restaurant,Bar,Bakery  Los Angeles      US   \n",
       "4  American Restaurant,Bar,Bakery  Los Angeles      US   \n",
       "\n",
       "                                                keys   latitude   longitude  \\\n",
       "0  us/or/bend/cascadevillagemallacrossfromtarget/...  44.102665 -121.300797   \n",
       "1  us/or/bend/cascadevillagemallacrossfromtarget/...  44.102665 -121.300797   \n",
       "2  us/brentwood/losangeles/148sbarringtonave/-151...  34.064563 -118.469017   \n",
       "3  us/brentwood/losangeles/148sbarringtonave/-151...  34.064563 -118.469017   \n",
       "4  us/brentwood/losangeles/148sbarringtonave/-151...  34.064563 -118.469017   \n",
       "\n",
       "  menuPageURL  menus.amountMax    ...      menus.currency  \\\n",
       "0         NaN            22.50    ...                 USD   \n",
       "1         NaN            18.95    ...                 USD   \n",
       "2         NaN            12.00    ...                 USD   \n",
       "3         NaN            13.00    ...                 USD   \n",
       "4         NaN            13.00    ...                 USD   \n",
       "\n",
       "         menus.dateSeen                 menus.description         menus.name  \\\n",
       "0  2016-03-31T02:19:42Z                               NaN       Bianca Pizza   \n",
       "1  2016-03-31T02:19:42Z                               NaN       Cheese Pizza   \n",
       "2  2015-10-23T03:57:26Z                               NaN  Pizza, Margherita   \n",
       "3  2015-10-23T03:57:26Z                               NaN    Pizza, Mushroom   \n",
       "4  2015-10-23T03:57:26Z  Olives, onions, capers, tomatoes  Pizza, Puttenesca   \n",
       "\n",
       "                    name postalCode priceRangeCurrency priceRangeMin  \\\n",
       "0  Little Pizza Paradise      97701                NaN           NaN   \n",
       "1  Little Pizza Paradise      97701                NaN           NaN   \n",
       "2          The Brentwood      90049                USD          50.0   \n",
       "3          The Brentwood      90049                USD          50.0   \n",
       "4          The Brentwood      90049                USD          50.0   \n",
       "\n",
       "   priceRangeMax   province  \n",
       "0            NaN         OR  \n",
       "1            NaN         OR  \n",
       "2           55.0  Brentwood  \n",
       "3           55.0  Brentwood  \n",
       "4           55.0  Brentwood  \n",
       "\n",
       "[5 rows x 21 columns]"
      ]
     },
     "execution_count": 13,
     "metadata": {},
     "output_type": "execute_result"
    }
   ],
   "source": [
    "Pizza.head()"
   ]
  },
  {
   "cell_type": "code",
   "execution_count": 16,
   "metadata": {},
   "outputs": [
    {
     "name": "stdout",
     "output_type": "stream",
     "text": [
      "<class 'pandas.core.frame.DataFrame'>\n",
      "RangeIndex: 3510 entries, 0 to 3509\n",
      "Data columns (total 21 columns):\n",
      "id                    3510 non-null object\n",
      "address               3510 non-null object\n",
      "categories            3510 non-null object\n",
      "city                  3510 non-null object\n",
      "country               3510 non-null object\n",
      "keys                  3510 non-null object\n",
      "latitude              3510 non-null float64\n",
      "longitude             3510 non-null float64\n",
      "menuPageURL           610 non-null object\n",
      "menus.amountMax       2948 non-null float64\n",
      "menus.amountMin       2948 non-null float64\n",
      "menus.currency        2951 non-null object\n",
      "menus.dateSeen        3510 non-null object\n",
      "menus.description     1526 non-null object\n",
      "menus.name            3510 non-null object\n",
      "name                  3510 non-null object\n",
      "postalCode            3484 non-null object\n",
      "priceRangeCurrency    1557 non-null object\n",
      "priceRangeMin         1557 non-null float64\n",
      "priceRangeMax         1557 non-null float64\n",
      "province              3510 non-null object\n",
      "dtypes: float64(6), object(15)\n",
      "memory usage: 575.9+ KB\n"
     ]
    },
    {
     "data": {
      "text/plain": [
       "id                       0\n",
       "address                  0\n",
       "categories               0\n",
       "city                     0\n",
       "country                  0\n",
       "keys                     0\n",
       "latitude                 0\n",
       "longitude                0\n",
       "menuPageURL           2900\n",
       "menus.amountMax        562\n",
       "menus.amountMin        562\n",
       "menus.currency         559\n",
       "menus.dateSeen           0\n",
       "menus.description     1984\n",
       "menus.name               0\n",
       "name                     0\n",
       "postalCode              26\n",
       "priceRangeCurrency    1953\n",
       "priceRangeMin         1953\n",
       "priceRangeMax         1953\n",
       "province                 0\n",
       "dtype: int64"
      ]
     },
     "execution_count": 16,
     "metadata": {},
     "output_type": "execute_result"
    }
   ],
   "source": [
    "Pizza.info()\n",
    "Pizza.isnull().sum()"
   ]
  },
  {
   "cell_type": "code",
   "execution_count": 18,
   "metadata": {},
   "outputs": [
    {
     "data": {
      "text/plain": [
       "id                     object\n",
       "address                object\n",
       "categories             object\n",
       "city                   object\n",
       "country                object\n",
       "keys                   object\n",
       "latitude              float64\n",
       "longitude             float64\n",
       "menuPageURL            object\n",
       "menus.amountMax       float64\n",
       "menus.amountMin       float64\n",
       "menus.currency         object\n",
       "menus.dateSeen         object\n",
       "menus.description      object\n",
       "menus.name             object\n",
       "name                   object\n",
       "postalCode             object\n",
       "priceRangeCurrency     object\n",
       "priceRangeMin         float64\n",
       "priceRangeMax         float64\n",
       "province               object\n",
       "dtype: object"
      ]
     },
     "execution_count": 18,
     "metadata": {},
     "output_type": "execute_result"
    }
   ],
   "source": [
    "Pizza.dtypes"
   ]
  },
  {
   "cell_type": "code",
   "execution_count": 23,
   "metadata": {},
   "outputs": [],
   "source": [
    "pizzas = Pizza['menus.name'].value_counts()\n",
    "\n",
    "pizzas = Pizza['categories'].value_counts()"
   ]
  },
  {
   "cell_type": "code",
   "execution_count": 24,
   "metadata": {},
   "outputs": [
    {
     "data": {
      "text/plain": [
       "Pizza Place                                                                                                                                                                                                                                                                                                                                              492\n",
       "Restaurant                                                                                                                                                                                                                                                                                                                                               470\n",
       "Italian Restaurant                                                                                                                                                                                                                                                                                                                                       155\n",
       "Pizza Place,Pizza                                                                                                                                                                                                                                                                                                                                        100\n",
       "American Restaurant                                                                                                                                                                                                                                                                                                                                       56\n",
       "American Restaurant,Italian Restaurant,American Restaurant and Italian Restaurant                                                                                                                                                                                                                                                                         55\n",
       "Restaurant,Pizza Place                                                                                                                                                                                                                                                                                                                                    46\n",
       "Pizza Place,Restaurant                                                                                                                                                                                                                                                                                                                                    36\n",
       "Caterers,Restaurants,Italian Restaurants,Pizza,Pizza Place and Italian Restaurant                                                                                                                                                                                                                                                                         34\n",
       "Restaurant,Pizza,Italian Restaurants,Caterers,Take Out Restaurants,Restaurants                                                                                                                                                                                                                                                                            31\n",
       "Pizza Place,Italian Restaurant,Restaurants,Pizza Place and Italian Restaurant                                                                                                                                                                                                                                                                             28\n",
       "Pizza Place Juniata Park - Feltonville,Pizza Place                                                                                                                                                                                                                                                                                                        26\n",
       "Pizza Place,Restaurants                                                                                                                                                                                                                                                                                                                                   23\n",
       "Pizza Place,Italian Restaurant                                                                                                                                                                                                                                                                                                                            20\n",
       "Pizza Place and Italian Restaurant Downtown Bartow,Pizza Place and Italian Restaurant,Pizza Place,Italian Restaurant                                                                                                                                                                                                                                      20\n",
       "Pizza Place,Mediterranean Restaurant,Take Out Restaurants,Caterers,Restaurants,Pizza                                                                                                                                                                                                                                                                      20\n",
       "Pizza Place,Restaurants,Pizza                                                                                                                                                                                                                                                                                                                             19\n",
       "Pizza Place,Italian Restaurant,Pizza,Restaurants                                                                                                                                                                                                                                                                                                          19\n",
       "Locks & Locksmiths                                                                                                                                                                                                                                                                                                                                        18\n",
       "Restaurant,Italian Restaurant                                                                                                                                                                                                                                                                                                                             18\n",
       "Pizza Place,Pizza,Italian Restaurants,Caterers,Restaurants                                                                                                                                                                                                                                                                                                17\n",
       "Arcade,Pizza Place, Arcade, and Event Space,Pizza Place,Event Space                                                                                                                                                                                                                                                                                       17\n",
       "Restaurant,Restaurants,Italian Restaurants,Pizza,Pizza Place                                                                                                                                                                                                                                                                                              17\n",
       "Mexican Restaurant                                                                                                                                                                                                                                                                                                                                        17\n",
       "Pizza,Take Out Restaurants,Restaurants,Burger Joint                                                                                                                                                                                                                                                                                                       16\n",
       "Italian Restaurant and Pizza Place                                                                                                                                                                                                                                                                                                                        16\n",
       "Pizza,Take Out Restaurants,Restaurants,Pizza Place                                                                                                                                                                                                                                                                                                        16\n",
       "Italian Restaurant,Restaurant                                                                                                                                                                                                                                                                                                                             16\n",
       "Take Out Restaurants,Restaurants,Italian Restaurants,Pizza,Pizza Place                                                                                                                                                                                                                                                                                    16\n",
       "Pizza,Take Out Restaurants,Caterers,Italian Restaurants,Restaurants,Restaurant,Italian Restaurant,Pizza Place                                                                                                                                                                                                                                             15\n",
       "                                                                                                                                                                                                                                                                                                                                                        ... \n",
       "Barbecue Restaurants,Bar & Grills,Ice Cream & Frozen Desserts,Restaurants                                                                                                                                                                                                                                                                                  1\n",
       "Restaurants,Bars Clubs,Bars Pubs,American Restaurant,Bars & Clubs,Bars & Pubs                                                                                                                                                                                                                                                                              1\n",
       "Wings Joint,American Restaurant                                                                                                                                                                                                                                                                                                                            1\n",
       "Mexican Restaurant,Cocktail Bar,Sports Bar,Mexican Restaurant, Cocktail Bar, and Sports Bar                                                                                                                                                                                                                                                                1\n",
       "Restaurant,business attorneys                                                                                                                                                                                                                                                                                                                              1\n",
       "Scenic Lookout,Caverns & Caves,Nature & Parks                                                                                                                                                                                                                                                                                                              1\n",
       "Pizza,Caterers,Take Out Restaurants,Italian Restaurants,Restaurants                                                                                                                                                                                                                                                                                        1\n",
       "restaurant                                                                                                                                                                                                                                                                                                                                                 1\n",
       "Fried Chicken Joint Inwood,Fried Chicken Joint,Locksmiths                                                                                                                                                                                                                                                                                                  1\n",
       "Latin American Restaurants,Restaurants,Mexican Restaurants                                                                                                                                                                                                                                                                                                 1\n",
       "Sporting Goods Shop,Shoe Store,Sporting Goods Shop and Shoe Store Town Center,Sporting Goods Shop and Shoe Store,Sportswear,Shoe Stores,Running Stores,Clothing Stores,Sporting Goods                                                                                                                                                                      1\n",
       "Mediterranean Restaurant,Seafood Restaurants,Mediterranean Restaurants,Bars,Greek Restaurants,Night Clubs,Taverns,Caterers,Restaurants                                                                                                                                                                                                                     1\n",
       "Sandwich Place,wich Place                                                                                                                                                                                                                                                                                                                                  1\n",
       "Asian Restaurant                                                                                                                                                                                                                                                                                                                                           1\n",
       "Diner,Breakfast Spot                                                                                                                                                                                                                                                                                                                                       1\n",
       "italian restaurant,Italian Restaurant, Pizza Place, and Wine Bar,Restaurant                                                                                                                                                                                                                                                                                1\n",
       "Asian Restaurant,Washington Dc                                                                                                                                                                                                                                                                                                                             1\n",
       "Restaurant,Caterers,Breakfast Brunch & Lunch Restaurants,,Continental Restaurants,Restaurants,Bistros                                                                                                                                                                                                                                                      1\n",
       "Electronic Equipment & Supplies Service & Repair,Cell Phones,Cell Phone Service,Cell Phone Repair & Installation,Phone Equipment & Systems Service & Repair                                                                                                                                                                                                1\n",
       "Italian Restaurant,Pizza Place,Italian Restaurant and Pizza Place West Hills,Italian Restaurants,Mediterranean Restaurants,Pizza,Take Out Restaurants,Caterers,Restaurants                                                                                                                                                                                 1\n",
       "Food and Beverage,Federal Way Restaurants,Pizza Place,Pizza,Caterers,Restaurants                                                                                                                                                                                                                                                                           1\n",
       "Bagel Shop,American Restaurant                                                                                                                                                                                                                                                                                                                             1\n",
       "Greek Restaurant and Diner,Diner,Greek Restaurant,Greek Restaurant and Diner Culver-Winton-Main                                                                                                                                                                                                                                                            1\n",
       "Sales Promotions & Counseling Services,Sales Consultants                                                                                                                                                                                                                                                                                                   1\n",
       "Golf Course                                                                                                                                                                                                                                                                                                                                                1\n",
       "Sports Bar,American Restaurant                                                                                                                                                                                                                                                                                                                             1\n",
       "Bars Pubs,Bars Clubs,Taverns,Restaurants,Mexican Restaurants,Bar and Grills,Bars,Vegetarian Restaurants,Latin American Restaurants,Vegetarian / Vegan Restaurant,Bars & Clubs,Bars & Pubs,Bar,Mexican Restaurant,Mexican Restaurant, Vegetarian / Vegan Restaurant, and Bar Old Cloverdale,Mexican Restaurant, Vegetarian / Vegan Restaurant, and Bar      1\n",
       "Brewery,Pub,Ice Cream & Frozen Desserts,Dessert Restaurants                                                                                                                                                                                                                                                                                                1\n",
       "Food & Entertainment,Restaurants                                                                                                                                                                                                                                                                                                                           1\n",
       "Adult Entertainers,American Restaurant,Bar,Strip Club                                                                                                                                                                                                                                                                                                      1\n",
       "Name: categories, Length: 561, dtype: int64"
      ]
     },
     "execution_count": 24,
     "metadata": {},
     "output_type": "execute_result"
    }
   ],
   "source": [
    "pizzas"
   ]
  },
  {
   "cell_type": "code",
   "execution_count": 25,
   "metadata": {},
   "outputs": [
    {
     "data": {
      "text/plain": [
       "Philadelphia         91\n",
       "New York             88\n",
       "Charleston           73\n",
       "Los Angeles          60\n",
       "East Granby          55\n",
       "Columbus             41\n",
       "Weirton              32\n",
       "Clifton Park         31\n",
       "White Plains         29\n",
       "Lawrence Township    28\n",
       "Rockville            25\n",
       "Pittsburgh           24\n",
       "Vernon Rockville     24\n",
       "Houston              23\n",
       "Denver               23\n",
       "Indianapolis         22\n",
       "Phoenix              22\n",
       "Louisville           22\n",
       "Middletown           21\n",
       "Cockeysville         20\n",
       "Wyckoff              20\n",
       "Greensboro           20\n",
       "Bartow               20\n",
       "Rochester            20\n",
       "Ocala                19\n",
       "Fairfield            19\n",
       "Colorado Springs     18\n",
       "Arcadia              18\n",
       "Lake Forest          18\n",
       "Weehawken            18\n",
       "                     ..\n",
       "Punta Gorda           1\n",
       "Isanti                1\n",
       "Rockville Centre      1\n",
       "Williston             1\n",
       "Dunedin               1\n",
       "Clifton               1\n",
       "Sylacauga             1\n",
       "Cave Creek            1\n",
       "Brentwood             1\n",
       "Ephrata               1\n",
       "Houghton              1\n",
       "Saint Albans          1\n",
       "Evergreen             1\n",
       "Paradise              1\n",
       "Buffalo Grove         1\n",
       "Fort Collins          1\n",
       "Coeur D Alene         1\n",
       "Sedona                1\n",
       "Jackson               1\n",
       "Laurel                1\n",
       "Willoughby            1\n",
       "Fairbanks             1\n",
       "Fort Lee              1\n",
       "Novato                1\n",
       "Wallingford           1\n",
       "Federal Way           1\n",
       "Locust                1\n",
       "West Palm Beach       1\n",
       "Medford               1\n",
       "Sartell               1\n",
       "Name: city, Length: 673, dtype: int64"
      ]
     },
     "execution_count": 25,
     "metadata": {},
     "output_type": "execute_result"
    }
   ],
   "source": [
    "pizzas_city = Pizza['city'].value_counts()\n",
    "pizzas_city"
   ]
  },
  {
   "cell_type": "code",
   "execution_count": 27,
   "metadata": {},
   "outputs": [
    {
     "data": {
      "text/plain": [
       "(3510, 21)"
      ]
     },
     "execution_count": 27,
     "metadata": {},
     "output_type": "execute_result"
    },
    {
     "data": {
      "text/html": [
       "<div>\n",
       "<style>\n",
       "    .dataframe thead tr:only-child th {\n",
       "        text-align: right;\n",
       "    }\n",
       "\n",
       "    .dataframe thead th {\n",
       "        text-align: left;\n",
       "    }\n",
       "\n",
       "    .dataframe tbody tr th {\n",
       "        vertical-align: top;\n",
       "    }\n",
       "</style>\n",
       "<table border=\"1\" class=\"dataframe\">\n",
       "  <thead>\n",
       "    <tr style=\"text-align: right;\">\n",
       "      <th></th>\n",
       "      <th>latitude</th>\n",
       "      <th>longitude</th>\n",
       "      <th>menus.amountMax</th>\n",
       "      <th>menus.amountMin</th>\n",
       "      <th>priceRangeMin</th>\n",
       "      <th>priceRangeMax</th>\n",
       "    </tr>\n",
       "  </thead>\n",
       "  <tbody>\n",
       "    <tr>\n",
       "      <th>count</th>\n",
       "      <td>3510.000000</td>\n",
       "      <td>3510.000000</td>\n",
       "      <td>2948.000000</td>\n",
       "      <td>2948.000000</td>\n",
       "      <td>1557.000000</td>\n",
       "      <td>1557.000000</td>\n",
       "    </tr>\n",
       "    <tr>\n",
       "      <th>mean</th>\n",
       "      <td>38.555114</td>\n",
       "      <td>-87.472055</td>\n",
       "      <td>12.479186</td>\n",
       "      <td>11.427849</td>\n",
       "      <td>15.597945</td>\n",
       "      <td>36.566474</td>\n",
       "    </tr>\n",
       "    <tr>\n",
       "      <th>std</th>\n",
       "      <td>4.651092</td>\n",
       "      <td>16.430008</td>\n",
       "      <td>13.398923</td>\n",
       "      <td>7.262919</td>\n",
       "      <td>18.495854</td>\n",
       "      <td>21.737839</td>\n",
       "    </tr>\n",
       "    <tr>\n",
       "      <th>min</th>\n",
       "      <td>18.411826</td>\n",
       "      <td>-157.837461</td>\n",
       "      <td>0.000000</td>\n",
       "      <td>0.000000</td>\n",
       "      <td>0.000000</td>\n",
       "      <td>12.000000</td>\n",
       "    </tr>\n",
       "    <tr>\n",
       "      <th>25%</th>\n",
       "      <td>35.769852</td>\n",
       "      <td>-94.202573</td>\n",
       "      <td>7.500000</td>\n",
       "      <td>7.000000</td>\n",
       "      <td>0.000000</td>\n",
       "      <td>30.000000</td>\n",
       "    </tr>\n",
       "    <tr>\n",
       "      <th>50%</th>\n",
       "      <td>40.020710</td>\n",
       "      <td>-81.675414</td>\n",
       "      <td>11.870000</td>\n",
       "      <td>10.990000</td>\n",
       "      <td>25.000000</td>\n",
       "      <td>40.000000</td>\n",
       "    </tr>\n",
       "    <tr>\n",
       "      <th>75%</th>\n",
       "      <td>41.455179</td>\n",
       "      <td>-74.743820</td>\n",
       "      <td>15.950000</td>\n",
       "      <td>14.950000</td>\n",
       "      <td>25.000000</td>\n",
       "      <td>40.000000</td>\n",
       "    </tr>\n",
       "    <tr>\n",
       "      <th>max</th>\n",
       "      <td>64.854370</td>\n",
       "      <td>-66.024871</td>\n",
       "      <td>312.950000</td>\n",
       "      <td>118.990000</td>\n",
       "      <td>347.000000</td>\n",
       "      <td>666.000000</td>\n",
       "    </tr>\n",
       "  </tbody>\n",
       "</table>\n",
       "</div>"
      ],
      "text/plain": [
       "          latitude    longitude  menus.amountMax  menus.amountMin  \\\n",
       "count  3510.000000  3510.000000      2948.000000      2948.000000   \n",
       "mean     38.555114   -87.472055        12.479186        11.427849   \n",
       "std       4.651092    16.430008        13.398923         7.262919   \n",
       "min      18.411826  -157.837461         0.000000         0.000000   \n",
       "25%      35.769852   -94.202573         7.500000         7.000000   \n",
       "50%      40.020710   -81.675414        11.870000        10.990000   \n",
       "75%      41.455179   -74.743820        15.950000        14.950000   \n",
       "max      64.854370   -66.024871       312.950000       118.990000   \n",
       "\n",
       "       priceRangeMin  priceRangeMax  \n",
       "count    1557.000000    1557.000000  \n",
       "mean       15.597945      36.566474  \n",
       "std        18.495854      21.737839  \n",
       "min         0.000000      12.000000  \n",
       "25%         0.000000      30.000000  \n",
       "50%        25.000000      40.000000  \n",
       "75%        25.000000      40.000000  \n",
       "max       347.000000     666.000000  "
      ]
     },
     "execution_count": 27,
     "metadata": {},
     "output_type": "execute_result"
    },
    {
     "data": {
      "text/plain": [
       "id                     object\n",
       "address                object\n",
       "categories             object\n",
       "city                   object\n",
       "country                object\n",
       "keys                   object\n",
       "latitude              float64\n",
       "longitude             float64\n",
       "menuPageURL            object\n",
       "menus.amountMax       float64\n",
       "menus.amountMin       float64\n",
       "menus.currency         object\n",
       "menus.dateSeen         object\n",
       "menus.description      object\n",
       "menus.name             object\n",
       "name                   object\n",
       "postalCode             object\n",
       "priceRangeCurrency     object\n",
       "priceRangeMin         float64\n",
       "priceRangeMax         float64\n",
       "province               object\n",
       "dtype: object"
      ]
     },
     "execution_count": 27,
     "metadata": {},
     "output_type": "execute_result"
    }
   ],
   "source": [
    "Pizza.shape\n",
    "Pizza.describe()\n",
    "Pizza.dtypes"
   ]
  },
  {
   "cell_type": "code",
   "execution_count": 32,
   "metadata": {},
   "outputs": [
    {
     "data": {
      "text/plain": [
       "<matplotlib.axes._subplots.AxesSubplot at 0xbf33908>"
      ]
     },
     "execution_count": 32,
     "metadata": {},
     "output_type": "execute_result"
    },
    {
     "data": {
      "image/png": "[encoded data removed]",
      "text/plain": [
       "<matplotlib.figure.Figure at 0xbf49e48>"
      ]
     },
     "metadata": {},
     "output_type": "display_data"
    }
   ],
   "source": [
    "Pizza['menus.name'].value_counts()[:20].plot(kind='bar')"
   ]
  },
  {
   "cell_type": "code",
   "execution_count": 42,
   "metadata": {},
   "outputs": [
    {
     "data": {
      "text/plain": [
       "<matplotlib.axes._subplots.AxesSubplot at 0xc3f5ef0>"
      ]
     },
     "execution_count": 42,
     "metadata": {},
     "output_type": "execute_result"
    },
    {
     "data": {
      "text/plain": [
       "(array([ 0,  1,  2,  3,  4,  5,  6,  7,  8,  9, 10, 11, 12, 13, 14, 15, 16,\n",
       "        17, 18, 19]), <a list of 20 Text xticklabel objects>)"
      ]
     },
     "execution_count": 42,
     "metadata": {},
     "output_type": "execute_result"
    },
    {
     "data": {
      "image/png": "[encoded data removed]",
      "text/plain": [
       "<matplotlib.figure.Figure at 0xc596cf8>"
      ]
     },
     "metadata": {},
     "output_type": "display_data"
    }
   ],
   "source": [
    "Pizza['categories'].value_counts()[:20].plot(kind='bar')\n",
    "plt.xticks(rotation='90')"
   ]
  },
  {
   "cell_type": "code",
   "execution_count": 48,
   "metadata": {},
   "outputs": [
    {
     "data": {
      "text/plain": [
       "<matplotlib.axes._subplots.AxesSubplot at 0xcfc8f28>"
      ]
     },
     "execution_count": 48,
     "metadata": {},
     "output_type": "execute_result"
    },
    {
     "data": {
      "image/png": "[encoded data removed]",
      "text/plain": [
       "<matplotlib.figure.Figure at 0xceed828>"
      ]
     },
     "metadata": {},
     "output_type": "display_data"
    }
   ],
   "source": [
    "Pizza['city'].value_counts()[:20].plot(kind='bar')"
   ]
  },
  {
   "cell_type": "code",
   "execution_count": 46,
   "metadata": {},
   "outputs": [
    {
     "data": {
      "text/plain": [
       "<matplotlib.axes._subplots.AxesSubplot at 0xce87f28>"
      ]
     },
     "execution_count": 46,
     "metadata": {},
     "output_type": "execute_result"
    },
    {
     "data": {
      "image/png": "[encoded data removed]",
      "text/plain": [
       "<matplotlib.figure.Figure at 0xcbbd780>"
      ]
     },
     "metadata": {},
     "output_type": "display_data"
    }
   ],
   "source": [
    "Pizza['country'].value_counts()[:20].plot(kind='bar')"
   ]
  },
  {
   "cell_type": "code",
   "execution_count": null,
   "metadata": {
    "collapsed": true
   },
   "outputs": [],
   "source": []
  },
  {
   "cell_type": "code",
   "execution_count": null,
   "metadata": {
    "collapsed": true
   },
   "outputs": [],
   "source": []
  },
  {
   "cell_type": "code",
   "execution_count": null,
   "metadata": {
    "collapsed": true
   },
   "outputs": [],
   "source": []
  },
  {
   "cell_type": "code",
   "execution_count": null,
   "metadata": {
    "collapsed": true
   },
   "outputs": [],
   "source": []
  },
  {
   "cell_type": "code",
   "execution_count": null,
   "metadata": {
    "collapsed": true
   },
   "outputs": [],
   "source": []
  },
  {
   "cell_type": "code",
   "execution_count": null,
   "metadata": {
    "collapsed": true
   },
   "outputs": [],
   "source": []
  },
  {
   "cell_type": "code",
   "execution_count": null,
   "metadata": {
    "collapsed": true
   },
   "outputs": [],
   "source": []
  },
  {
   "cell_type": "code",
   "execution_count": null,
   "metadata": {
    "collapsed": true
   },
   "outputs": [],
   "source": []
  },
  {
   "cell_type": "code",
   "execution_count": null,
   "metadata": {
    "collapsed": true
   },
   "outputs": [],
   "source": []
  },
  {
   "cell_type": "code",
   "execution_count": null,
   "metadata": {
    "collapsed": true
   },
   "outputs": [],
   "source": []
  },
  {
   "cell_type": "code",
   "execution_count": null,
   "metadata": {
    "collapsed": true
   },
   "outputs": [],
   "source": []
  },
  {
   "cell_type": "code",
   "execution_count": null,
   "metadata": {
    "collapsed": true
   },
   "outputs": [],
   "source": []
  },
  {
   "cell_type": "code",
   "execution_count": null,
   "metadata": {
    "collapsed": true
   },
   "outputs": [],
   "source": []
  },
  {
   "cell_type": "code",
   "execution_count": null,
   "metadata": {
    "collapsed": true
   },
   "outputs": [],
   "source": []
  },
  {
   "cell_type": "code",
   "execution_count": null,
   "metadata": {
    "collapsed": true
   },
   "outputs": [],
   "source": []
  },
  {
   "cell_type": "code",
   "execution_count": null,
   "metadata": {
    "collapsed": true
   },
   "outputs": [],
   "source": []
  },
  {
   "cell_type": "code",
   "execution_count": null,
   "metadata": {
    "collapsed": true
   },
   "outputs": [],
   "source": []
  },
  {
   "cell_type": "code",
   "execution_count": null,
   "metadata": {
    "collapsed": true
   },
   "outputs": [],
   "source": []
  },
  {
   "cell_type": "code",
   "execution_count": null,
   "metadata": {
    "collapsed": true
   },
   "outputs": [],
   "source": []
  },
  {
   "cell_type": "code",
   "execution_count": null,
   "metadata": {
    "collapsed": true
   },
   "outputs": [],
   "source": []
  },
  {
   "cell_type": "code",
   "execution_count": null,
   "metadata": {
    "collapsed": true
   },
   "outputs": [],
   "source": []
  },
  {
   "cell_type": "code",
   "execution_count": null,
   "metadata": {
    "collapsed": true
   },
   "outputs": [],
   "source": []
  },
  {
   "cell_type": "code",
   "execution_count": null,
   "metadata": {
    "collapsed": true
   },
   "outputs": [],
   "source": []
  },
  {
   "cell_type": "code",
   "execution_count": null,
   "metadata": {
    "collapsed": true
   },
   "outputs": [],
   "source": []
  },
  {
   "cell_type": "code",
   "execution_count": null,
   "metadata": {
    "collapsed": true
   },
   "outputs": [],
   "source": []
  },
  {
   "cell_type": "code",
   "execution_count": null,
   "metadata": {
    "collapsed": true
   },
   "outputs": [],
   "source": []
  },
  {
   "cell_type": "code",
   "execution_count": null,
   "metadata": {
    "collapsed": true
   },
   "outputs": [],
   "source": []
  },
  {
   "cell_type": "code",
   "execution_count": null,
   "metadata": {
    "collapsed": true
   },
   "outputs": [],
   "source": []
  },
  {
   "cell_type": "code",
   "execution_count": null,
   "metadata": {
    "collapsed": true
   },
   "outputs": [],
   "source": []
  },
  {
   "cell_type": "code",
   "execution_count": null,
   "metadata": {
    "collapsed": true
   },
   "outputs": [],
   "source": []
  },
  {
   "cell_type": "code",
   "execution_count": null,
   "metadata": {
    "collapsed": true
   },
   "outputs": [],
   "source": []
  },
  {
   "cell_type": "code",
   "execution_count": null,
   "metadata": {
    "collapsed": true
   },
   "outputs": [],
   "source": []
  },
  {
   "cell_type": "code",
   "execution_count": null,
   "metadata": {
    "collapsed": true
   },
   "outputs": [],
   "source": []
  },
  {
   "cell_type": "code",
   "execution_count": null,
   "metadata": {
    "collapsed": true
   },
   "outputs": [],
   "source": []
  },
  {
   "cell_type": "code",
   "execution_count": null,
   "metadata": {
    "collapsed": true
   },
   "outputs": [],
   "source": []
  },
  {
   "cell_type": "code",
   "execution_count": null,
   "metadata": {
    "collapsed": true
   },
   "outputs": [],
   "source": []
  },
  {
   "cell_type": "code",
   "execution_count": null,
   "metadata": {
    "collapsed": true
   },
   "outputs": [],
   "source": []
  },
  {
   "cell_type": "code",
   "execution_count": null,
   "metadata": {
    "collapsed": true
   },
   "outputs": [],
   "source": []
  },
  {
   "cell_type": "code",
   "execution_count": null,
   "metadata": {
    "collapsed": true
   },
   "outputs": [],
   "source": []
  },
  {
   "cell_type": "code",
   "execution_count": null,
   "metadata": {
    "collapsed": true
   },
   "outputs": [],
   "source": []
  },
  {
   "cell_type": "code",
   "execution_count": null,
   "metadata": {
    "collapsed": true
   },
   "outputs": [],
   "source": []
  },
  {
   "cell_type": "code",
   "execution_count": null,
   "metadata": {
    "collapsed": true
   },
   "outputs": [],
   "source": []
  },
  {
   "cell_type": "code",
   "execution_count": null,
   "metadata": {
    "collapsed": true
   },
   "outputs": [],
   "source": []
  },
  {
   "cell_type": "code",
   "execution_count": null,
   "metadata": {
    "collapsed": true
   },
   "outputs": [],
   "source": []
  },
  {
   "cell_type": "code",
   "execution_count": null,
   "metadata": {
    "collapsed": true
   },
   "outputs": [],
   "source": []
  }
 ],
 "metadata": {
  "kernelspec": {
   "display_name": "Python 3",
   "language": "python",
   "name": "python3"
  },
  "language_info": {
   "codemirror_mode": {
    "name": "ipython",
    "version": 3
   },
   "file_extension": ".py",
   "mimetype": "text/x-python",
   "name": "python",
   "nbconvert_exporter": "python",
   "pygments_lexer": "ipython3",
   "version": "3.6.1"
  }
 },
 "nbformat": 4,
 "nbformat_minor": 2
}
